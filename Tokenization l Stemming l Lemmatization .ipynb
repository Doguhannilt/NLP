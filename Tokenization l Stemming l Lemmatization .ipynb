{
 "cells": [
  {
   "cell_type": "markdown",
   "id": "1c2d26a1",
   "metadata": {},
   "source": [
    "# TOKENIZATION"
   ]
  },
  {
   "cell_type": "code",
   "execution_count": 1,
   "id": "ecc6ea0f",
   "metadata": {},
   "outputs": [
    {
     "name": "stderr",
     "output_type": "stream",
     "text": [
      "C:\\Users\\doguy\\Anaconda\\lib\\site-packages\\scipy\\__init__.py:146: UserWarning: A NumPy version >=1.16.5 and <1.23.0 is required for this version of SciPy (detected version 1.23.5\n",
      "  warnings.warn(f\"A NumPy version >={np_minversion} and <{np_maxversion}\"\n"
     ]
    }
   ],
   "source": [
    "import nltk\n"
   ]
  },
  {
   "cell_type": "code",
   "execution_count": 2,
   "id": "82840727",
   "metadata": {},
   "outputs": [
    {
     "name": "stdout",
     "output_type": "stream",
     "text": [
      "showing info https://raw.githubusercontent.com/nltk/nltk_data/gh-pages/index.xml\n"
     ]
    },
    {
     "data": {
      "text/plain": [
       "True"
      ]
     },
     "execution_count": 2,
     "metadata": {},
     "output_type": "execute_result"
    }
   ],
   "source": [
    "nltk.download()"
   ]
  },
  {
   "cell_type": "code",
   "execution_count": 21,
   "id": "d1dcd137",
   "metadata": {},
   "outputs": [],
   "source": [
    "# I will use the speech of Mustafa Kemal Ataturk.\n",
    "\n",
    "Paragraph = \"\"\"Turkish nation! Your homeland is no longer a despotic state ruled by sultans. It is now a modern and sovereign republic. A republic that you have established with great sacrifice and determination.\n",
    "The foundations of this republic are democracy and freedom. Its fundamental principles are based on the concept of national sovereignty, where power belongs to the people. Every citizen, regardless of their religion, language, or race, is equal before the law.\n",
    "Our aim is to raise the standards of civilization of our nation to the level of contemporary civilizations. We must embrace science, knowledge, and reason. We must strive for progress in every field, from education to industry, from agriculture to technology.\n",
    "Let us remember that the true power of a nation lies in the unity and solidarity of its people. We must cast aside our differences and work together as one. We have proven to the world that we are capable of achieving great things when we are united.\n",
    "Our national sovereignty is our most precious possession. We will protect it at all costs and defend our independence against any threat. We will not allow any external influence to hinder our progress or undermine our sovereignty.\n",
    "We must also never forget the sacrifices made by our heroes and martyrs. They fought bravely to secure the future of our nation. It is our duty to honor their memory by continuing to build a strong and prosperous Turkey.\n",
    "Turkish nation! The Republic of Turkey is in your hands. It is up to you to preserve its principles and ensure its progress. Let us work together, with determination and perseverance, to create a brighter future for our country and our people.\n",
    "Long live the Republic of Turkey\"\"\"\n",
    "\n"
   ]
  },
  {
   "cell_type": "code",
   "execution_count": 26,
   "id": "2365fb7f",
   "metadata": {},
   "outputs": [
    {
     "name": "stdout",
     "output_type": "stream",
     "text": [
      "['Turkish nation!', 'Your homeland is no longer a despotic state ruled by sultans.', 'It is now a modern and sovereign republic.', 'A republic that you have established with great sacrifice and determination.', 'The foundations of this republic are democracy and freedom.', 'Its fundamental principles are based on the concept of national sovereignty, where power belongs to the people.', 'Every citizen, regardless of their religion, language, or race, is equal before the law.', 'Our aim is to raise the standards of civilization of our nation to the level of contemporary civilizations.', 'We must embrace science, knowledge, and reason.', 'We must strive for progress in every field, from education to industry, from agriculture to technology.', 'Let us remember that the true power of a nation lies in the unity and solidarity of its people.', 'We must cast aside our differences and work together as one.', 'We have proven to the world that we are capable of achieving great things when we are united.', 'Our national sovereignty is our most precious possession.', 'We will protect it at all costs and defend our independence against any threat.', 'We will not allow any external influence to hinder our progress or undermine our sovereignty.', 'We must also never forget the sacrifices made by our heroes and martyrs.', 'They fought bravely to secure the future of our nation.', 'It is our duty to honor their memory by continuing to build a strong and prosperous Turkey.', 'Turkish nation!', 'The Republic of Turkey is in your hands.', 'It is up to you to preserve its principles and ensure its progress.', 'Let us work together, with determination and perseverance, to create a brighter future for our country and our people.', 'Long live the Republic of Turkey']\n"
     ]
    },
    {
     "data": {
      "text/plain": [
       "24"
      ]
     },
     "execution_count": 26,
     "metadata": {},
     "output_type": "execute_result"
    }
   ],
   "source": [
    "# Tokenizing sentences\n",
    "sentences = nltk.sent_tokenize(Paragraph)\n",
    "print(sentences)\n",
    "len(sentences)"
   ]
  },
  {
   "cell_type": "code",
   "execution_count": 17,
   "id": "359d4791",
   "metadata": {},
   "outputs": [
    {
     "name": "stdout",
     "output_type": "stream",
     "text": [
      "['Turkish', 'nation', '!', 'Your', 'homeland', 'is', 'no', 'longer', 'a', 'despotic', 'state', 'ruled', 'by', 'sultans', '.', 'It', 'is', 'now', 'a', 'modern', 'and', 'sovereign', 'republic', '.', 'A', 'republic', 'that', 'you', 'have', 'established', 'with', 'great', 'sacrifice', 'and', 'determination', '.', 'The', 'foundations', 'of', 'this', 'republic', 'are', 'democracy', 'and', 'freedom', '.', 'Its', 'fundamental', 'principles', 'are', 'based', 'on', 'the', 'concept', 'of', 'national', 'sovereignty', ',', 'where', 'power', 'belongs', 'to', 'the', 'people', '.', 'Every', 'citizen', ',', 'regardless', 'of', 'their', 'religion', ',', 'language', ',', 'or', 'race', ',', 'is', 'equal', 'before', 'the', 'law', '.', 'Our', 'aim', 'is', 'to', 'raise', 'the', 'standards', 'of', 'civilization', 'of', 'our', 'nation', 'to', 'the', 'level', 'of', 'contemporary', 'civilizations', '.', 'We', 'must', 'embrace', 'science', ',', 'knowledge', ',', 'and', 'reason', '.', 'We', 'must', 'strive', 'for', 'progress', 'in', 'every', 'field', ',', 'from', 'education', 'to', 'industry', ',', 'from', 'agriculture', 'to', 'technology', '.', 'Let', 'us', 'remember', 'that', 'the', 'true', 'power', 'of', 'a', 'nation', 'lies', 'in', 'the', 'unity', 'and', 'solidarity', 'of', 'its', 'people', '.', 'We', 'must', 'cast', 'aside', 'our', 'differences', 'and', 'work', 'together', 'as', 'one', '.', 'We', 'have', 'proven', 'to', 'the', 'world', 'that', 'we', 'are', 'capable', 'of', 'achieving', 'great', 'things', 'when', 'we', 'are', 'united', '.', 'Our', 'national', 'sovereignty', 'is', 'our', 'most', 'precious', 'possession', '.', 'We', 'will', 'protect', 'it', 'at', 'all', 'costs', 'and', 'defend', 'our', 'independence', 'against', 'any', 'threat', '.', 'We', 'will', 'not', 'allow', 'any', 'external', 'influence', 'to', 'hinder', 'our', 'progress', 'or', 'undermine', 'our', 'sovereignty', '.', 'We', 'must', 'also', 'never', 'forget', 'the', 'sacrifices', 'made', 'by', 'our', 'heroes', 'and', 'martyrs', '.', 'They', 'fought', 'bravely', 'to', 'secure', 'the', 'future', 'of', 'our', 'nation', '.', 'It', 'is', 'our', 'duty', 'to', 'honor', 'their', 'memory', 'by', 'continuing', 'to', 'build', 'a', 'strong', 'and', 'prosperous', 'Turkey', '.', 'Turkish', 'nation', '!', 'The', 'Republic', 'of', 'Turkey', 'is', 'in', 'your', 'hands', '.', 'It', 'is', 'up', 'to', 'you', 'to', 'preserve', 'its', 'principles', 'and', 'ensure', 'its', 'progress', '.', 'Let', 'us', 'work', 'together', ',', 'with', 'determination', 'and', 'perseverance', ',', 'to', 'create', 'a', 'brighter', 'future', 'for', 'our', 'country', 'and', 'our', 'people', '.', 'Long', 'live', 'the', 'Republic', 'of', 'Turkey']\n"
     ]
    }
   ],
   "source": [
    "# Tokenizing words\n",
    "words = nltk.word_tokenize(Paragraph)\n",
    "print(words)"
   ]
  },
  {
   "cell_type": "markdown",
   "id": "8a5bea00",
   "metadata": {},
   "source": [
    "# Stemming And Lemmatization \n",
    "\n",
    "\n",
    "The key differences between lemmatization and stemming can be summarized as follows:\n",
    "\n",
    "\n",
    "\n",
    "Output: Lemmatization produces a valid word that exists in the language, while stemming may generate a word that is not present in the language.\n",
    "\n",
    "Accuracy: Lemmatization tends to be more accurate than stemming because it considers the context and part of speech of a word.\n",
    "\n",
    "Complexity: Lemmatization involves more complex algorithms and linguistic knowledge, considering different word forms, syntactic rules, and morphological analysis. Stemming, on the other hand, applies simpler and rule-based heuristics.\n",
    "\n",
    "Speed: Stemming is usually faster than lemmatization because of its simpler algorithm.\n"
   ]
  },
  {
   "cell_type": "code",
   "execution_count": 3,
   "id": "6368cf47",
   "metadata": {},
   "outputs": [],
   "source": [
    "from nltk.stem import PorterStemmer\n",
    "from nltk.corpus import stopwords"
   ]
  },
  {
   "cell_type": "markdown",
   "id": "4bd95fb6",
   "metadata": {},
   "source": [
    "# STEM\n",
    "\n",
    "## PorterStemmer:\n",
    "    \n",
    "    What is an example of a Porter Stemmer?\n",
    "    \n",
    "    In brief, stemming is the process of reducing a word to its word stem. Word stem is a base or root\n",
    "    form of the word and doesn't need to be an existing word. For example, the Porter algorithm reduces the words \n",
    "    “argue”, “argued”, “argues” and “arguing” to the stem “argu” which isn't an existing word.\n",
    "\n",
    "## StopWords:\n",
    "    \n",
    "    Stopwords are commonly used words in natural language that are typically filtered out\n",
    "    or ignored when processing or analyzing text data. These words, such as articles (e.g., \"a,\" \"an,\" \"the\"), \n",
    "    prepositions (e.g., \"in,\" \"on,\" \"at\"), and conjunctions (e.g., \"and,\" \"but,\" \"or\"), do not carry significant \n",
    "    meaning or contribute much to the overall understanding of the text.\n",
    "\n"
   ]
  },
  {
   "cell_type": "code",
   "execution_count": 4,
   "id": "313cb9ab",
   "metadata": {},
   "outputs": [],
   "source": [
    "sentences = nltk.sent_tokenize(Paragraph)\n",
    "stemmer = PorterStemmer()"
   ]
  },
  {
   "cell_type": "code",
   "execution_count": 6,
   "id": "e5a3b5eb",
   "metadata": {},
   "outputs": [
    {
     "data": {
      "text/plain": [
       "['acaba',\n",
       " 'ama',\n",
       " 'aslında',\n",
       " 'az',\n",
       " 'bazı',\n",
       " 'belki',\n",
       " 'biri',\n",
       " 'birkaç',\n",
       " 'birşey',\n",
       " 'biz',\n",
       " 'bu',\n",
       " 'çok',\n",
       " 'çünkü',\n",
       " 'da',\n",
       " 'daha',\n",
       " 'de',\n",
       " 'defa',\n",
       " 'diye',\n",
       " 'eğer',\n",
       " 'en',\n",
       " 'gibi',\n",
       " 'hem',\n",
       " 'hep',\n",
       " 'hepsi',\n",
       " 'her',\n",
       " 'hiç',\n",
       " 'için',\n",
       " 'ile',\n",
       " 'ise',\n",
       " 'kez',\n",
       " 'ki',\n",
       " 'kim',\n",
       " 'mı',\n",
       " 'mu',\n",
       " 'mü',\n",
       " 'nasıl',\n",
       " 'ne',\n",
       " 'neden',\n",
       " 'nerde',\n",
       " 'nerede',\n",
       " 'nereye',\n",
       " 'niçin',\n",
       " 'niye',\n",
       " 'o',\n",
       " 'sanki',\n",
       " 'şey',\n",
       " 'siz',\n",
       " 'şu',\n",
       " 'tüm',\n",
       " 've',\n",
       " 'veya',\n",
       " 'ya',\n",
       " 'yani']"
      ]
     },
     "execution_count": 6,
     "metadata": {},
     "output_type": "execute_result"
    }
   ],
   "source": [
    "# The words that will be ignoring by stopwords if i use \"Turkish\" as attribute\n",
    "stopwords.words(\"turkish\")"
   ]
  },
  {
   "cell_type": "code",
   "execution_count": 9,
   "id": "66e7fc72",
   "metadata": {},
   "outputs": [],
   "source": [
    "for i in range(len(sentences)):\n",
    "    words = nltk.word_tokenize(sentences[i])\n",
    "    words = [stemmer.stem(word) for word in words if word not in set(stopwords.words('english'))]\n",
    "    sentences[i] = ' '.join(words)"
   ]
  },
  {
   "cell_type": "code",
   "execution_count": 10,
   "id": "cfb30ad0",
   "metadata": {},
   "outputs": [
    {
     "data": {
      "text/plain": [
       "['turkish nation !',\n",
       " 'your homeland longer despot state rule sultan .',\n",
       " 'it modern sovereign republ .',\n",
       " 'a republ establish great sacrific determin .',\n",
       " 'the foundat republ democraci freedom .',\n",
       " 'it fundament principl base concept nation sovereignti , power belong peopl .',\n",
       " 'everi citizen , regardless religion , languag , race , equal law .',\n",
       " 'our aim rais standard civil nation level contemporari civil .',\n",
       " 'we must embrac scienc , knowledg , reason .',\n",
       " 'we must strive progress everi field , educ industri , agricultur technolog .',\n",
       " 'let us rememb true power nation lie uniti solidar peopl .',\n",
       " 'we must cast asid differ work togeth one .',\n",
       " 'we proven world capabl achiev great thing unit .',\n",
       " 'our nation sovereignti preciou possess .',\n",
       " 'we protect cost defend independ threat .',\n",
       " 'we allow extern influenc hinder progress undermin sovereignti .',\n",
       " 'we must also never forget sacrific made hero martyr .',\n",
       " 'they fought brave secur futur nation .',\n",
       " 'it duti honor memori continu build strong prosper turkey .',\n",
       " 'turkish nation !',\n",
       " 'the republ turkey hand .',\n",
       " 'it preserv principl ensur progress .',\n",
       " 'let us work togeth , determin persever , creat brighter futur countri peopl .',\n",
       " 'long live republ turkey']"
      ]
     },
     "execution_count": 10,
     "metadata": {},
     "output_type": "execute_result"
    }
   ],
   "source": [
    "sentences"
   ]
  },
  {
   "cell_type": "markdown",
   "id": "6e3b9a1b",
   "metadata": {},
   "source": [
    "# LEMMATIZATION"
   ]
  },
  {
   "cell_type": "code",
   "execution_count": 11,
   "id": "49eb2e92",
   "metadata": {},
   "outputs": [],
   "source": [
    "from nltk.stem import WordNetLemmatizer\n",
    "lemmatizer = WordNetLemmatizer()\n",
    "\n",
    "# What is WordNetLemmatizer()\n",
    "#    \n",
    "#    The WordNetLemmatizer specifically focuses on lemmatization, \n",
    "#    which is the process of reducing words to their base or dictionary form, known as a lemma."
   ]
  },
  {
   "cell_type": "code",
   "execution_count": 27,
   "id": "7214e8a0",
   "metadata": {},
   "outputs": [],
   "source": [
    "for i in range(len(sentences)):\n",
    "    words = nltk.word_tokenize(sentences[i])\n",
    "    words = [lemmatizer.lemmatize(word) for word in words if word not in set(stopwords.words('english'))]\n",
    "    sentences[i] = ' '.join(words)"
   ]
  },
  {
   "cell_type": "code",
   "execution_count": 32,
   "id": "c5d9861f",
   "metadata": {},
   "outputs": [
    {
     "data": {
      "text/plain": [
       "(24,\n",
       " 4,\n",
       " ['Turkish nation !',\n",
       "  'Your homeland longer despotic state ruled sultan .',\n",
       "  'It modern sovereign republic .',\n",
       "  'A republic established great sacrifice determination .',\n",
       "  'The foundation republic democracy freedom .',\n",
       "  'Its fundamental principle based concept national sovereignty , power belongs people .',\n",
       "  'Every citizen , regardless religion , language , race , equal law .',\n",
       "  'Our aim raise standard civilization nation level contemporary civilization .',\n",
       "  'We must embrace science , knowledge , reason .',\n",
       "  'We must strive progress every field , education industry , agriculture technology .',\n",
       "  'Let u remember true power nation lie unity solidarity people .',\n",
       "  'We must cast aside difference work together one .',\n",
       "  'We proven world capable achieving great thing united .',\n",
       "  'Our national sovereignty precious possession .',\n",
       "  'We protect cost defend independence threat .',\n",
       "  'We allow external influence hinder progress undermine sovereignty .',\n",
       "  'We must also never forget sacrifice made hero martyr .',\n",
       "  'They fought bravely secure future nation .',\n",
       "  'It duty honor memory continuing build strong prosperous Turkey .',\n",
       "  'Turkish nation !',\n",
       "  'The Republic Turkey hand .',\n",
       "  'It preserve principle ensure progress .',\n",
       "  'Let u work together , determination perseverance , create brighter future country people .',\n",
       "  'Long live Republic Turkey'])"
      ]
     },
     "execution_count": 32,
     "metadata": {},
     "output_type": "execute_result"
    }
   ],
   "source": [
    "len(sentences),len(words),sentences"
   ]
  }
 ],
 "metadata": {
  "kernelspec": {
   "display_name": "Python 3 (ipykernel)",
   "language": "python",
   "name": "python3"
  },
  "language_info": {
   "codemirror_mode": {
    "name": "ipython",
    "version": 3
   },
   "file_extension": ".py",
   "mimetype": "text/x-python",
   "name": "python",
   "nbconvert_exporter": "python",
   "pygments_lexer": "ipython3",
   "version": "3.9.12"
  }
 },
 "nbformat": 4,
 "nbformat_minor": 5
}
